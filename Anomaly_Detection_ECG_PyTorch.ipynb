{
  "nbformat": 4,
  "nbformat_minor": 0,
  "metadata": {
    "colab": {
      "provenance": [],
      "include_colab_link": true
    },
    "kernelspec": {
      "name": "python3",
      "display_name": "Python 3"
    },
    "language_info": {
      "name": "python"
    }
  },
  "cells": [
    {
      "cell_type": "markdown",
      "metadata": {
        "id": "view-in-github",
        "colab_type": "text"
      },
      "source": [
        "<a href=\"https://colab.research.google.com/github/Alex-Chen1121/Deep-Leaning/blob/main/Anomaly_Detection_ECG_PyTorch.ipynb\" target=\"_parent\"><img src=\"https://colab.research.google.com/assets/colab-badge.svg\" alt=\"Open In Colab\"/></a>"
      ]
    },
    {
      "cell_type": "code",
      "execution_count": 1,
      "metadata": {
        "id": "3quUpaX7BbY9"
      },
      "outputs": [],
      "source": [
        "import pandas as pd\n",
        "import numpy as np\n",
        "from sklearn.model_selection import train_test_split\n",
        "import matplotlib.pyplot as plt\n",
        "import torch\n",
        "import torch.nn as nn\n",
        "from tqdm.auto import tqdm"
      ]
    },
    {
      "cell_type": "code",
      "source": [
        "# Download the dataset\n",
        "df = pd.read_csv('http://storage.googleapis.com/download.tensorflow.org/data/ecg.csv',\n",
        "                 header=None)\n",
        "raw_data = df.values\n",
        "df.iloc[:, -1] = 1-df.iloc[:, -1]\n",
        "df.head()"
      ],
      "metadata": {
        "id": "eLqQaijpBkq6",
        "colab": {
          "base_uri": "https://localhost:8080/",
          "height": 255
        },
        "outputId": "6051b47e-99e8-43cd-d2e1-8008acf0579d"
      },
      "execution_count": 2,
      "outputs": [
        {
          "output_type": "execute_result",
          "data": {
            "text/plain": [
              "        0         1         2         3         4         5         6    \\\n",
              "0 -0.112522 -2.827204 -3.773897 -4.349751 -4.376041 -3.474986 -2.181408   \n",
              "1 -1.100878 -3.996840 -4.285843 -4.506579 -4.022377 -3.234368 -1.566126   \n",
              "2 -0.567088 -2.593450 -3.874230 -4.584095 -4.187449 -3.151462 -1.742940   \n",
              "3  0.490473 -1.914407 -3.616364 -4.318823 -4.268016 -3.881110 -2.993280   \n",
              "4  0.800232 -0.874252 -2.384761 -3.973292 -4.338224 -3.802422 -2.534510   \n",
              "\n",
              "        7         8         9    ...       131       132       133       134  \\\n",
              "0 -1.818286 -1.250522 -0.477492  ...  0.792168  0.933541  0.796958  0.578621   \n",
              "1 -0.992258 -0.754680  0.042321  ...  0.538356  0.656881  0.787490  0.724046   \n",
              "2 -1.490659 -1.183580 -0.394229  ...  0.886073  0.531452  0.311377 -0.021919   \n",
              "3 -1.671131 -1.333884 -0.965629  ...  0.350816  0.499111  0.600345  0.842069   \n",
              "4 -1.783423 -1.594450 -0.753199  ...  1.148884  0.958434  1.059025  1.371682   \n",
              "\n",
              "        135       136       137       138       139  140  \n",
              "0  0.257740  0.228077  0.123431  0.925286  0.193137  0.0  \n",
              "1  0.555784  0.476333  0.773820  1.119621 -1.436250  0.0  \n",
              "2 -0.713683 -0.532197  0.321097  0.904227 -0.421797  0.0  \n",
              "3  0.952074  0.990133  1.086798  1.403011 -0.383564  0.0  \n",
              "4  1.277392  0.960304  0.971020  1.614392  1.421456  0.0  \n",
              "\n",
              "[5 rows x 141 columns]"
            ],
            "text/html": [
              "\n",
              "  <div id=\"df-53417881-b476-454c-b2fa-90044d088641\" class=\"colab-df-container\">\n",
              "    <div>\n",
              "<style scoped>\n",
              "    .dataframe tbody tr th:only-of-type {\n",
              "        vertical-align: middle;\n",
              "    }\n",
              "\n",
              "    .dataframe tbody tr th {\n",
              "        vertical-align: top;\n",
              "    }\n",
              "\n",
              "    .dataframe thead th {\n",
              "        text-align: right;\n",
              "    }\n",
              "</style>\n",
              "<table border=\"1\" class=\"dataframe\">\n",
              "  <thead>\n",
              "    <tr style=\"text-align: right;\">\n",
              "      <th></th>\n",
              "      <th>0</th>\n",
              "      <th>1</th>\n",
              "      <th>2</th>\n",
              "      <th>3</th>\n",
              "      <th>4</th>\n",
              "      <th>5</th>\n",
              "      <th>6</th>\n",
              "      <th>7</th>\n",
              "      <th>8</th>\n",
              "      <th>9</th>\n",
              "      <th>...</th>\n",
              "      <th>131</th>\n",
              "      <th>132</th>\n",
              "      <th>133</th>\n",
              "      <th>134</th>\n",
              "      <th>135</th>\n",
              "      <th>136</th>\n",
              "      <th>137</th>\n",
              "      <th>138</th>\n",
              "      <th>139</th>\n",
              "      <th>140</th>\n",
              "    </tr>\n",
              "  </thead>\n",
              "  <tbody>\n",
              "    <tr>\n",
              "      <th>0</th>\n",
              "      <td>-0.112522</td>\n",
              "      <td>-2.827204</td>\n",
              "      <td>-3.773897</td>\n",
              "      <td>-4.349751</td>\n",
              "      <td>-4.376041</td>\n",
              "      <td>-3.474986</td>\n",
              "      <td>-2.181408</td>\n",
              "      <td>-1.818286</td>\n",
              "      <td>-1.250522</td>\n",
              "      <td>-0.477492</td>\n",
              "      <td>...</td>\n",
              "      <td>0.792168</td>\n",
              "      <td>0.933541</td>\n",
              "      <td>0.796958</td>\n",
              "      <td>0.578621</td>\n",
              "      <td>0.257740</td>\n",
              "      <td>0.228077</td>\n",
              "      <td>0.123431</td>\n",
              "      <td>0.925286</td>\n",
              "      <td>0.193137</td>\n",
              "      <td>0.0</td>\n",
              "    </tr>\n",
              "    <tr>\n",
              "      <th>1</th>\n",
              "      <td>-1.100878</td>\n",
              "      <td>-3.996840</td>\n",
              "      <td>-4.285843</td>\n",
              "      <td>-4.506579</td>\n",
              "      <td>-4.022377</td>\n",
              "      <td>-3.234368</td>\n",
              "      <td>-1.566126</td>\n",
              "      <td>-0.992258</td>\n",
              "      <td>-0.754680</td>\n",
              "      <td>0.042321</td>\n",
              "      <td>...</td>\n",
              "      <td>0.538356</td>\n",
              "      <td>0.656881</td>\n",
              "      <td>0.787490</td>\n",
              "      <td>0.724046</td>\n",
              "      <td>0.555784</td>\n",
              "      <td>0.476333</td>\n",
              "      <td>0.773820</td>\n",
              "      <td>1.119621</td>\n",
              "      <td>-1.436250</td>\n",
              "      <td>0.0</td>\n",
              "    </tr>\n",
              "    <tr>\n",
              "      <th>2</th>\n",
              "      <td>-0.567088</td>\n",
              "      <td>-2.593450</td>\n",
              "      <td>-3.874230</td>\n",
              "      <td>-4.584095</td>\n",
              "      <td>-4.187449</td>\n",
              "      <td>-3.151462</td>\n",
              "      <td>-1.742940</td>\n",
              "      <td>-1.490659</td>\n",
              "      <td>-1.183580</td>\n",
              "      <td>-0.394229</td>\n",
              "      <td>...</td>\n",
              "      <td>0.886073</td>\n",
              "      <td>0.531452</td>\n",
              "      <td>0.311377</td>\n",
              "      <td>-0.021919</td>\n",
              "      <td>-0.713683</td>\n",
              "      <td>-0.532197</td>\n",
              "      <td>0.321097</td>\n",
              "      <td>0.904227</td>\n",
              "      <td>-0.421797</td>\n",
              "      <td>0.0</td>\n",
              "    </tr>\n",
              "    <tr>\n",
              "      <th>3</th>\n",
              "      <td>0.490473</td>\n",
              "      <td>-1.914407</td>\n",
              "      <td>-3.616364</td>\n",
              "      <td>-4.318823</td>\n",
              "      <td>-4.268016</td>\n",
              "      <td>-3.881110</td>\n",
              "      <td>-2.993280</td>\n",
              "      <td>-1.671131</td>\n",
              "      <td>-1.333884</td>\n",
              "      <td>-0.965629</td>\n",
              "      <td>...</td>\n",
              "      <td>0.350816</td>\n",
              "      <td>0.499111</td>\n",
              "      <td>0.600345</td>\n",
              "      <td>0.842069</td>\n",
              "      <td>0.952074</td>\n",
              "      <td>0.990133</td>\n",
              "      <td>1.086798</td>\n",
              "      <td>1.403011</td>\n",
              "      <td>-0.383564</td>\n",
              "      <td>0.0</td>\n",
              "    </tr>\n",
              "    <tr>\n",
              "      <th>4</th>\n",
              "      <td>0.800232</td>\n",
              "      <td>-0.874252</td>\n",
              "      <td>-2.384761</td>\n",
              "      <td>-3.973292</td>\n",
              "      <td>-4.338224</td>\n",
              "      <td>-3.802422</td>\n",
              "      <td>-2.534510</td>\n",
              "      <td>-1.783423</td>\n",
              "      <td>-1.594450</td>\n",
              "      <td>-0.753199</td>\n",
              "      <td>...</td>\n",
              "      <td>1.148884</td>\n",
              "      <td>0.958434</td>\n",
              "      <td>1.059025</td>\n",
              "      <td>1.371682</td>\n",
              "      <td>1.277392</td>\n",
              "      <td>0.960304</td>\n",
              "      <td>0.971020</td>\n",
              "      <td>1.614392</td>\n",
              "      <td>1.421456</td>\n",
              "      <td>0.0</td>\n",
              "    </tr>\n",
              "  </tbody>\n",
              "</table>\n",
              "<p>5 rows × 141 columns</p>\n",
              "</div>\n",
              "    <div class=\"colab-df-buttons\">\n",
              "\n",
              "  <div class=\"colab-df-container\">\n",
              "    <button class=\"colab-df-convert\" onclick=\"convertToInteractive('df-53417881-b476-454c-b2fa-90044d088641')\"\n",
              "            title=\"Convert this dataframe to an interactive table.\"\n",
              "            style=\"display:none;\">\n",
              "\n",
              "  <svg xmlns=\"http://www.w3.org/2000/svg\" height=\"24px\" viewBox=\"0 -960 960 960\">\n",
              "    <path d=\"M120-120v-720h720v720H120Zm60-500h600v-160H180v160Zm220 220h160v-160H400v160Zm0 220h160v-160H400v160ZM180-400h160v-160H180v160Zm440 0h160v-160H620v160ZM180-180h160v-160H180v160Zm440 0h160v-160H620v160Z\"/>\n",
              "  </svg>\n",
              "    </button>\n",
              "\n",
              "  <style>\n",
              "    .colab-df-container {\n",
              "      display:flex;\n",
              "      gap: 12px;\n",
              "    }\n",
              "\n",
              "    .colab-df-convert {\n",
              "      background-color: #E8F0FE;\n",
              "      border: none;\n",
              "      border-radius: 50%;\n",
              "      cursor: pointer;\n",
              "      display: none;\n",
              "      fill: #1967D2;\n",
              "      height: 32px;\n",
              "      padding: 0 0 0 0;\n",
              "      width: 32px;\n",
              "    }\n",
              "\n",
              "    .colab-df-convert:hover {\n",
              "      background-color: #E2EBFA;\n",
              "      box-shadow: 0px 1px 2px rgba(60, 64, 67, 0.3), 0px 1px 3px 1px rgba(60, 64, 67, 0.15);\n",
              "      fill: #174EA6;\n",
              "    }\n",
              "\n",
              "    .colab-df-buttons div {\n",
              "      margin-bottom: 4px;\n",
              "    }\n",
              "\n",
              "    [theme=dark] .colab-df-convert {\n",
              "      background-color: #3B4455;\n",
              "      fill: #D2E3FC;\n",
              "    }\n",
              "\n",
              "    [theme=dark] .colab-df-convert:hover {\n",
              "      background-color: #434B5C;\n",
              "      box-shadow: 0px 1px 3px 1px rgba(0, 0, 0, 0.15);\n",
              "      filter: drop-shadow(0px 1px 2px rgba(0, 0, 0, 0.3));\n",
              "      fill: #FFFFFF;\n",
              "    }\n",
              "  </style>\n",
              "\n",
              "    <script>\n",
              "      const buttonEl =\n",
              "        document.querySelector('#df-53417881-b476-454c-b2fa-90044d088641 button.colab-df-convert');\n",
              "      buttonEl.style.display =\n",
              "        google.colab.kernel.accessAllowed ? 'block' : 'none';\n",
              "\n",
              "      async function convertToInteractive(key) {\n",
              "        const element = document.querySelector('#df-53417881-b476-454c-b2fa-90044d088641');\n",
              "        const dataTable =\n",
              "          await google.colab.kernel.invokeFunction('convertToInteractive',\n",
              "                                                    [key], {});\n",
              "        if (!dataTable) return;\n",
              "\n",
              "        const docLinkHtml = 'Like what you see? Visit the ' +\n",
              "          '<a target=\"_blank\" href=https://colab.research.google.com/notebooks/data_table.ipynb>data table notebook</a>'\n",
              "          + ' to learn more about interactive tables.';\n",
              "        element.innerHTML = '';\n",
              "        dataTable['output_type'] = 'display_data';\n",
              "        await google.colab.output.renderOutput(dataTable, element);\n",
              "        const docLink = document.createElement('div');\n",
              "        docLink.innerHTML = docLinkHtml;\n",
              "        element.appendChild(docLink);\n",
              "      }\n",
              "    </script>\n",
              "  </div>\n",
              "\n",
              "\n",
              "<div id=\"df-ef3c7b97-bba3-4944-95f6-43f9654c38d8\">\n",
              "  <button class=\"colab-df-quickchart\" onclick=\"quickchart('df-ef3c7b97-bba3-4944-95f6-43f9654c38d8')\"\n",
              "            title=\"Suggest charts.\"\n",
              "            style=\"display:none;\">\n",
              "\n",
              "<svg xmlns=\"http://www.w3.org/2000/svg\" height=\"24px\"viewBox=\"0 0 24 24\"\n",
              "     width=\"24px\">\n",
              "    <g>\n",
              "        <path d=\"M19 3H5c-1.1 0-2 .9-2 2v14c0 1.1.9 2 2 2h14c1.1 0 2-.9 2-2V5c0-1.1-.9-2-2-2zM9 17H7v-7h2v7zm4 0h-2V7h2v10zm4 0h-2v-4h2v4z\"/>\n",
              "    </g>\n",
              "</svg>\n",
              "  </button>\n",
              "\n",
              "<style>\n",
              "  .colab-df-quickchart {\n",
              "      --bg-color: #E8F0FE;\n",
              "      --fill-color: #1967D2;\n",
              "      --hover-bg-color: #E2EBFA;\n",
              "      --hover-fill-color: #174EA6;\n",
              "      --disabled-fill-color: #AAA;\n",
              "      --disabled-bg-color: #DDD;\n",
              "  }\n",
              "\n",
              "  [theme=dark] .colab-df-quickchart {\n",
              "      --bg-color: #3B4455;\n",
              "      --fill-color: #D2E3FC;\n",
              "      --hover-bg-color: #434B5C;\n",
              "      --hover-fill-color: #FFFFFF;\n",
              "      --disabled-bg-color: #3B4455;\n",
              "      --disabled-fill-color: #666;\n",
              "  }\n",
              "\n",
              "  .colab-df-quickchart {\n",
              "    background-color: var(--bg-color);\n",
              "    border: none;\n",
              "    border-radius: 50%;\n",
              "    cursor: pointer;\n",
              "    display: none;\n",
              "    fill: var(--fill-color);\n",
              "    height: 32px;\n",
              "    padding: 0;\n",
              "    width: 32px;\n",
              "  }\n",
              "\n",
              "  .colab-df-quickchart:hover {\n",
              "    background-color: var(--hover-bg-color);\n",
              "    box-shadow: 0 1px 2px rgba(60, 64, 67, 0.3), 0 1px 3px 1px rgba(60, 64, 67, 0.15);\n",
              "    fill: var(--button-hover-fill-color);\n",
              "  }\n",
              "\n",
              "  .colab-df-quickchart-complete:disabled,\n",
              "  .colab-df-quickchart-complete:disabled:hover {\n",
              "    background-color: var(--disabled-bg-color);\n",
              "    fill: var(--disabled-fill-color);\n",
              "    box-shadow: none;\n",
              "  }\n",
              "\n",
              "  .colab-df-spinner {\n",
              "    border: 2px solid var(--fill-color);\n",
              "    border-color: transparent;\n",
              "    border-bottom-color: var(--fill-color);\n",
              "    animation:\n",
              "      spin 1s steps(1) infinite;\n",
              "  }\n",
              "\n",
              "  @keyframes spin {\n",
              "    0% {\n",
              "      border-color: transparent;\n",
              "      border-bottom-color: var(--fill-color);\n",
              "      border-left-color: var(--fill-color);\n",
              "    }\n",
              "    20% {\n",
              "      border-color: transparent;\n",
              "      border-left-color: var(--fill-color);\n",
              "      border-top-color: var(--fill-color);\n",
              "    }\n",
              "    30% {\n",
              "      border-color: transparent;\n",
              "      border-left-color: var(--fill-color);\n",
              "      border-top-color: var(--fill-color);\n",
              "      border-right-color: var(--fill-color);\n",
              "    }\n",
              "    40% {\n",
              "      border-color: transparent;\n",
              "      border-right-color: var(--fill-color);\n",
              "      border-top-color: var(--fill-color);\n",
              "    }\n",
              "    60% {\n",
              "      border-color: transparent;\n",
              "      border-right-color: var(--fill-color);\n",
              "    }\n",
              "    80% {\n",
              "      border-color: transparent;\n",
              "      border-right-color: var(--fill-color);\n",
              "      border-bottom-color: var(--fill-color);\n",
              "    }\n",
              "    90% {\n",
              "      border-color: transparent;\n",
              "      border-bottom-color: var(--fill-color);\n",
              "    }\n",
              "  }\n",
              "</style>\n",
              "\n",
              "  <script>\n",
              "    async function quickchart(key) {\n",
              "      const quickchartButtonEl =\n",
              "        document.querySelector('#' + key + ' button');\n",
              "      quickchartButtonEl.disabled = true;  // To prevent multiple clicks.\n",
              "      quickchartButtonEl.classList.add('colab-df-spinner');\n",
              "      try {\n",
              "        const charts = await google.colab.kernel.invokeFunction(\n",
              "            'suggestCharts', [key], {});\n",
              "      } catch (error) {\n",
              "        console.error('Error during call to suggestCharts:', error);\n",
              "      }\n",
              "      quickchartButtonEl.classList.remove('colab-df-spinner');\n",
              "      quickchartButtonEl.classList.add('colab-df-quickchart-complete');\n",
              "    }\n",
              "    (() => {\n",
              "      let quickchartButtonEl =\n",
              "        document.querySelector('#df-ef3c7b97-bba3-4944-95f6-43f9654c38d8 button');\n",
              "      quickchartButtonEl.style.display =\n",
              "        google.colab.kernel.accessAllowed ? 'block' : 'none';\n",
              "    })();\n",
              "  </script>\n",
              "</div>\n",
              "    </div>\n",
              "  </div>\n"
            ]
          },
          "metadata": {},
          "execution_count": 2
        }
      ]
    },
    {
      "cell_type": "code",
      "source": [
        "print(df.iloc[:, -1].value_counts())"
      ],
      "metadata": {
        "id": "9GGKGzn2BnFh",
        "colab": {
          "base_uri": "https://localhost:8080/"
        },
        "outputId": "73cd114d-cc59-487b-ee66-b9dcf52b9208"
      },
      "execution_count": 3,
      "outputs": [
        {
          "output_type": "stream",
          "name": "stdout",
          "text": [
            "0.0    2919\n",
            "1.0    2079\n",
            "Name: 140, dtype: int64\n"
          ]
        }
      ]
    },
    {
      "cell_type": "code",
      "source": [
        "# The last element contains the labels\n",
        "labels = raw_data[:, -1]\n",
        "\n",
        "# The other data points are the electrocadriogram data\n",
        "data = raw_data[:, :-1]\n",
        "\n",
        "train_data, test_data, train_labels, test_labels = train_test_split(\n",
        "    data, labels,\n",
        "    test_size=0.2,\n",
        "    random_state=5566\n",
        ")"
      ],
      "metadata": {
        "id": "ExXte-2nB2qB"
      },
      "execution_count": 4,
      "outputs": []
    },
    {
      "cell_type": "code",
      "source": [
        "train_data.shape, test_data.shape"
      ],
      "metadata": {
        "id": "3RHjg1RSCcgu",
        "colab": {
          "base_uri": "https://localhost:8080/"
        },
        "outputId": "900e5bb4-4c6b-493c-ba02-ab97659ab810"
      },
      "execution_count": 5,
      "outputs": [
        {
          "output_type": "execute_result",
          "data": {
            "text/plain": [
              "((3998, 140), (1000, 140))"
            ]
          },
          "metadata": {},
          "execution_count": 5
        }
      ]
    },
    {
      "cell_type": "code",
      "source": [
        "labels"
      ],
      "metadata": {
        "id": "m_NkZX_KDE-1",
        "colab": {
          "base_uri": "https://localhost:8080/"
        },
        "outputId": "4da20c5d-e1f8-41b8-b1ba-c959b4d5618d"
      },
      "execution_count": 6,
      "outputs": [
        {
          "output_type": "execute_result",
          "data": {
            "text/plain": [
              "array([0., 0., 0., ..., 1., 1., 1.])"
            ]
          },
          "metadata": {},
          "execution_count": 6
        }
      ]
    },
    {
      "cell_type": "code",
      "source": [
        "# Normalization : 0~1\n",
        "min_val = train_data.min()\n",
        "max_val = train_data.max()\n",
        "\n",
        "train_data = (train_data - min_val) / (max_val - min_val)\n",
        "test_data = (test_data - min_val) / (max_val - min_val)"
      ],
      "metadata": {
        "id": "uWIlMJK0CkIC"
      },
      "execution_count": 7,
      "outputs": []
    },
    {
      "cell_type": "code",
      "source": [
        "train_labels = train_labels.astype(bool)\n",
        "test_labels = test_labels.astype(bool)\n",
        "\n",
        "normal_train_data = train_data[~train_labels]\n",
        "normal_test_data = test_data[~test_labels]\n",
        "\n",
        "anomaly_train_data = train_data[train_labels]\n",
        "anomaly_test_data = test_data[test_labels]"
      ],
      "metadata": {
        "id": "V2gNVW7IC2mh"
      },
      "execution_count": 8,
      "outputs": []
    },
    {
      "cell_type": "code",
      "source": [
        "anomaly_train_data.shape, anomaly_test_data.shape"
      ],
      "metadata": {
        "id": "TuM1Y2WjDTuI",
        "colab": {
          "base_uri": "https://localhost:8080/"
        },
        "outputId": "efd38c6c-7dfc-4420-9367-22b006146a41"
      },
      "execution_count": 9,
      "outputs": [
        {
          "output_type": "execute_result",
          "data": {
            "text/plain": [
              "((1643, 140), (436, 140))"
            ]
          },
          "metadata": {},
          "execution_count": 9
        }
      ]
    },
    {
      "cell_type": "code",
      "source": [
        "normal_train_data.shape, normal_test_data.shape"
      ],
      "metadata": {
        "id": "vxA_pd_JDVHw",
        "colab": {
          "base_uri": "https://localhost:8080/"
        },
        "outputId": "14bc3f77-d575-4218-ad5d-bec8db17cedb"
      },
      "execution_count": 10,
      "outputs": [
        {
          "output_type": "execute_result",
          "data": {
            "text/plain": [
              "((2355, 140), (564, 140))"
            ]
          },
          "metadata": {},
          "execution_count": 10
        }
      ]
    },
    {
      "cell_type": "code",
      "source": [
        "plt.plot(np.arange(140), normal_train_data[0])\n",
        "plt.title(\"A Normal ECG\")\n",
        "plt.show()\n",
        "plt.plot(np.arange(140), anomaly_train_data[0])\n",
        "plt.title(\"An Anomaly ECG\")\n",
        "plt.show()"
      ],
      "metadata": {
        "id": "KHlbTWd2DY6A",
        "colab": {
          "base_uri": "https://localhost:8080/",
          "height": 887
        },
        "outputId": "77d06956-1389-4761-a209-78d9281e8316"
      },
      "execution_count": 11,
      "outputs": [
        {
          "output_type": "display_data",
          "data": {
            "text/plain": [
              "<Figure size 640x480 with 1 Axes>"
            ],
            "image/png": "[encoded data removed]"
          },
          "metadata": {}
        },
        {
          "output_type": "display_data",
          "data": {
            "text/plain": [
              "<Figure size 640x480 with 1 Axes>"
            ],
            "image/png": "[encoded data removed]"
          },
          "metadata": {}
        }
      ]
    },
    {
      "cell_type": "code",
      "source": [
        "class ECGDataset(torch.utils.data.Dataset):\n",
        "    def __init__(self, data):\n",
        "        self.data = data\n",
        "\n",
        "    def __len__(self):\n",
        "        return len(self.data)\n",
        "\n",
        "    def __getitem__(self, idx):\n",
        "        data = self.data[idx]\n",
        "        data = torch.tensor(data, dtype=torch.float)\n",
        "        return data\n",
        "\n",
        "train_ds = ECGDataset(normal_train_data)\n",
        "train_loader = torch.utils.data.DataLoader(train_ds,\n",
        "                                           batch_size=128,\n",
        "                                           shuffle=True)"
      ],
      "metadata": {
        "id": "jW8OizfOE5if"
      },
      "execution_count": 12,
      "outputs": []
    },
    {
      "cell_type": "markdown",
      "source": [
        "#### Build Model"
      ],
      "metadata": {
        "id": "2HPBp-ZqDrni"
      }
    },
    {
      "cell_type": "code",
      "source": [
        "class AnomalyDetector(nn.Module):\n",
        "    def __init__(self):\n",
        "        super().__init__()\n",
        "        self.encoder = nn.Sequential(\n",
        "            nn.Linear(140, 32),\n",
        "            nn.ReLU(),\n",
        "            nn.Linear(32, 16),\n",
        "            nn.ReLU(),\n",
        "            nn.Linear(16, 8),\n",
        "            nn.ReLU(),\n",
        "        )\n",
        "        self.decoder = nn.Sequential(\n",
        "            nn.Linear(8, 16),\n",
        "            nn.ReLU(),\n",
        "            nn.Linear(16, 32),\n",
        "            nn.ReLU(),\n",
        "            nn.Linear(32, 140),\n",
        "            nn.Sigmoid(),\n",
        "        )\n",
        "    def forward(self, x):\n",
        "        x = self.encoder(x)\n",
        "        return self.decoder(x)"
      ],
      "metadata": {
        "id": "c3aLgpLhDoTU"
      },
      "execution_count": 13,
      "outputs": []
    },
    {
      "cell_type": "code",
      "source": [
        "model = AnomalyDetector()"
      ],
      "metadata": {
        "id": "XK7YKECMEfI3"
      },
      "execution_count": 14,
      "outputs": []
    },
    {
      "cell_type": "code",
      "source": [
        "# mock data\n",
        "inputs = torch.randn(1, 140)\n",
        "outputs = model(inputs)\n",
        "outputs.shape"
      ],
      "metadata": {
        "id": "gNZj56kxEhO6",
        "colab": {
          "base_uri": "https://localhost:8080/"
        },
        "outputId": "3371532e-40e6-4794-ff14-4d5666d32262"
      },
      "execution_count": 15,
      "outputs": [
        {
          "output_type": "execute_result",
          "data": {
            "text/plain": [
              "torch.Size([1, 140])"
            ]
          },
          "metadata": {},
          "execution_count": 15
        }
      ]
    },
    {
      "cell_type": "markdown",
      "source": [
        "#### Training"
      ],
      "metadata": {
        "id": "EyIXrNXFuNDr"
      }
    },
    {
      "cell_type": "code",
      "source": [
        "device = 'cuda' if torch.cuda.is_available() else 'cpu'\n",
        "device"
      ],
      "metadata": {
        "id": "wP4sH-V3ErIh",
        "colab": {
          "base_uri": "https://localhost:8080/",
          "height": 36
        },
        "outputId": "dfc51c94-f516-4144-e432-8bdadca1dbab"
      },
      "execution_count": 16,
      "outputs": [
        {
          "output_type": "execute_result",
          "data": {
            "text/plain": [
              "'cpu'"
            ],
            "application/vnd.google.colaboratory.intrinsic+json": {
              "type": "string"
            }
          },
          "metadata": {},
          "execution_count": 16
        }
      ]
    },
    {
      "cell_type": "code",
      "source": [
        "def train_epoch(model, dataloader, loss_fn, opt):\n",
        "    total_loss = 0\n",
        "    for x in dataloader:\n",
        "        # 過去的梯度歸零\n",
        "        opt.zero_grad()\n",
        "        x = x.to(device)\n",
        "        pred = model(x)\n",
        "        loss = loss_fn(pred, x)\n",
        "\n",
        "        loss.backward()\n",
        "        opt.step()\n",
        "\n",
        "        total_loss += loss.item()\n",
        "    return total_loss / len(dataloader)"
      ],
      "metadata": {
        "id": "dJHXvRGsE1lX"
      },
      "execution_count": 17,
      "outputs": []
    },
    {
      "cell_type": "code",
      "source": [
        "opt = torch.optim.Adam(model.parameters())\n",
        "# MAE loss\n",
        "# 訊號是時間序列 用回歸的方式\n",
        "# torch.nn.MSELoss()\n",
        "loss_fn = torch.nn.L1Loss()\n",
        "\n",
        "for i in range(20):\n",
        "    loss = train_epoch(model, train_loader, loss_fn, opt)\n",
        "    print(f'EPOCH {i:04d}: {loss:.4f}')"
      ],
      "metadata": {
        "id": "6V4xK-VcGqFU",
        "colab": {
          "base_uri": "https://localhost:8080/"
        },
        "outputId": "19686de2-0c16-42d9-bcc8-64e9972a5f6e"
      },
      "execution_count": 18,
      "outputs": [
        {
          "output_type": "stream",
          "name": "stdout",
          "text": [
            "EPOCH 0000: 0.0982\n",
            "EPOCH 0001: 0.0696\n",
            "EPOCH 0002: 0.0424\n",
            "EPOCH 0003: 0.0301\n",
            "EPOCH 0004: 0.0254\n",
            "EPOCH 0005: 0.0238\n",
            "EPOCH 0006: 0.0233\n",
            "EPOCH 0007: 0.0231\n",
            "EPOCH 0008: 0.0231\n",
            "EPOCH 0009: 0.0231\n",
            "EPOCH 0010: 0.0231\n",
            "EPOCH 0011: 0.0231\n",
            "EPOCH 0012: 0.0231\n",
            "EPOCH 0013: 0.0232\n",
            "EPOCH 0014: 0.0231\n",
            "EPOCH 0015: 0.0232\n",
            "EPOCH 0016: 0.0231\n",
            "EPOCH 0017: 0.0232\n",
            "EPOCH 0018: 0.0230\n",
            "EPOCH 0019: 0.0232\n"
          ]
        }
      ]
    },
    {
      "cell_type": "markdown",
      "source": [
        "#### Inference (Reconsturction) 重建"
      ],
      "metadata": {
        "id": "56FASBkjeZhv"
      }
    },
    {
      "cell_type": "code",
      "source": [
        "normal_test_ds = ECGDataset(normal_test_data)\n",
        "normal_test_loader = torch.utils.data.DataLoader(normal_test_ds,\n",
        "                                                 batch_size=512)\n",
        "\n",
        "anomaly_test_ds = ECGDataset(anomaly_test_data)\n",
        "anomaly_test_loader = torch.utils.data.DataLoader(anomaly_test_ds,\n",
        "                                                  batch_size=512)\n",
        "\n",
        "model = model.eval()"
      ],
      "metadata": {
        "id": "JM_fh7lCHHsI"
      },
      "execution_count": 19,
      "outputs": []
    },
    {
      "cell_type": "code",
      "source": [
        "def inference(model, loader):\n",
        "    outputs = []\n",
        "    with torch.no_grad():\n",
        "        for x in loader:\n",
        "            x = x.to(device)\n",
        "            pred = model(x)\n",
        "            outputs.append(pred)\n",
        "    return torch.cat(outputs, dim=0).cpu().numpy()\n",
        "\n",
        "def plot_error(original, reconstruct):\n",
        "    idx = 1\n",
        "    plt.plot(original, 'b')\n",
        "    plt.plot(reconstruct, 'r')\n",
        "    plt.fill_between(np.arange(140),\n",
        "                     reconstruct,\n",
        "                     original,\n",
        "                     color='lightcoral')\n",
        "    plt.legend(labels=[\"Input\", \"Reconstruction\", \"Error\"])\n",
        "    plt.show()\n",
        "    print(\"Mean Avg Error\", np.mean(np.abs(original - reconstruct)))"
      ],
      "metadata": {
        "id": "tBtl2q_Kebxw"
      },
      "execution_count": 20,
      "outputs": []
    },
    {
      "cell_type": "code",
      "source": [
        "# Normal\n",
        "normal_test_reconstruct = inference(model, normal_test_loader)\n",
        "anomaly_test_reconstruct = inference(model, anomaly_test_loader)\n",
        "normal_test_reconstruct.shape, anomaly_test_reconstruct.shape"
      ],
      "metadata": {
        "id": "171yuGKwLnT9",
        "colab": {
          "base_uri": "https://localhost:8080/"
        },
        "outputId": "a1ef3fd2-c265-4b8c-b741-9f4208cae866"
      },
      "execution_count": 21,
      "outputs": [
        {
          "output_type": "execute_result",
          "data": {
            "text/plain": [
              "((564, 140), (436, 140))"
            ]
          },
          "metadata": {},
          "execution_count": 21
        }
      ]
    },
    {
      "cell_type": "code",
      "source": [
        "idx = 1\n",
        "plot_error(normal_test_data[idx], normal_test_reconstruct[idx])"
      ],
      "metadata": {
        "id": "CEtTq934MFss",
        "colab": {
          "base_uri": "https://localhost:8080/",
          "height": 450
        },
        "outputId": "f32aff8b-14f6-4d78-ac9d-aa6670e955da"
      },
      "execution_count": 22,
      "outputs": [
        {
          "output_type": "display_data",
          "data": {
            "text/plain": [
              "<Figure size 640x480 with 1 Axes>"
            ],
            "image/png": "[encoded data removed]"
          },
          "metadata": {}
        },
        {
          "output_type": "stream",
          "name": "stdout",
          "text": [
            "Mean Avg Error 0.025573426990189465\n"
          ]
        }
      ]
    },
    {
      "cell_type": "code",
      "source": [
        "# Abnormal\n",
        "idx = 1\n",
        "plot_error(anomaly_test_data[idx], anomaly_test_reconstruct[idx])"
      ],
      "metadata": {
        "id": "fhU80ab-MOTN",
        "colab": {
          "base_uri": "https://localhost:8080/",
          "height": 448
        },
        "outputId": "2cd66633-3da1-4352-9cf4-c6fca54ad0f2"
      },
      "execution_count": 23,
      "outputs": [
        {
          "output_type": "display_data",
          "data": {
            "text/plain": [
              "<Figure size 640x480 with 1 Axes>"
            ],
            "image/png": "[encoded data removed]"
          },
          "metadata": {}
        },
        {
          "output_type": "stream",
          "name": "stdout",
          "text": [
            "Mean Avg Error 0.05615806859537057\n"
          ]
        }
      ]
    },
    {
      "cell_type": "code",
      "source": [
        "normal_train_reconstruct = inference(model, train_loader)"
      ],
      "metadata": {
        "id": "NE2017G1MjOQ"
      },
      "execution_count": 24,
      "outputs": []
    },
    {
      "cell_type": "code",
      "source": [
        "train_loss = np.mean(np.abs(normal_train_reconstruct - normal_train_data),\n",
        "                     axis=1)"
      ],
      "metadata": {
        "id": "QY-NCL6NOTbe"
      },
      "execution_count": 25,
      "outputs": []
    },
    {
      "cell_type": "code",
      "source": [
        "plt.hist(train_loss, bins=50)\n",
        "plt.xlabel(\"Train loss\")\n",
        "plt.ylabel(\"No of examples\")\n",
        "plt.show()"
      ],
      "metadata": {
        "id": "TKv4n2leOvqg",
        "colab": {
          "base_uri": "https://localhost:8080/",
          "height": 451
        },
        "outputId": "dd829f4a-2505-45fb-8144-212c2f12f8bb"
      },
      "execution_count": 26,
      "outputs": [
        {
          "output_type": "display_data",
          "data": {
            "text/plain": [
              "<Figure size 640x480 with 1 Axes>"
            ],
            "image/png": "[encoded data removed]"
          },
          "metadata": {}
        }
      ]
    },
    {
      "cell_type": "code",
      "source": [
        "thresholds = [np.mean(train_loss) + np.std(train_loss)*i for i in range(4)]\n",
        "print(f\"Thresholds: {thresholds}\")"
      ],
      "metadata": {
        "id": "01E083h_O98B",
        "colab": {
          "base_uri": "https://localhost:8080/"
        },
        "outputId": "ce685180-65f7-40a6-f4ea-6e132c08c30a"
      },
      "execution_count": 27,
      "outputs": [
        {
          "output_type": "stream",
          "name": "stdout",
          "text": [
            "Thresholds: [0.02325422289241416, 0.03734045162105734, 0.05142668034970052, 0.0655129090783437]\n"
          ]
        }
      ]
    },
    {
      "cell_type": "markdown",
      "source": [
        "#### Evaluation"
      ],
      "metadata": {
        "id": "StVzh7O72yp8"
      }
    },
    {
      "cell_type": "code",
      "source": [
        "from sklearn.metrics import accuracy_score, precision_score, recall_score\n",
        "\n",
        "test_ds = ECGDataset(test_data)\n",
        "test_loader = torch.utils.data.DataLoader(test_ds, batch_size=64)\n",
        "\n",
        "def evaluation(model, dataloader, threshold, labels):\n",
        "\n",
        "    input_data = []\n",
        "    reconstruct = []\n",
        "    with torch.no_grad():\n",
        "        for data in dataloader:\n",
        "            data = data.to(device)\n",
        "            pred = model(data)\n",
        "            input_data.append(data)\n",
        "            reconstruct.append(pred)\n",
        "\n",
        "    input_data = torch.cat(input_data, dim=0).cpu().numpy()\n",
        "    reconstruct = torch.cat(reconstruct, dim=0).cpu().numpy()\n",
        "\n",
        "    reconstruct_losses = np.mean(np.abs(reconstruct - input_data),\n",
        "                                 axis=1)\n",
        "    # loss > threshold:  1\n",
        "    # loss <= threshold: 0\n",
        "    reconstruct_classification = np.where(reconstruct_losses > threshold, 1, 0)\n",
        "\n",
        "    print(f\"Threshold = {threshold:.3f}\")\n",
        "    print(f\"Accuracy  = {accuracy_score(labels, reconstruct_classification):.3f}\".format())\n",
        "    print(f\"Precision = {precision_score(labels, reconstruct_classification):.3f}\")\n",
        "    print(f\"Recall    = {recall_score(labels, reconstruct_classification):.3f} \\n ===\")"
      ],
      "metadata": {
        "id": "R7mmojdVPIfO"
      },
      "execution_count": 28,
      "outputs": []
    },
    {
      "cell_type": "code",
      "source": [
        "# Evaluation on different threshold\n",
        "for i, threshold in enumerate(thresholds):\n",
        "    print(f\"thrshold = mean + {i}*std\")\n",
        "    evaluation(model, test_loader, threshold, test_labels)"
      ],
      "metadata": {
        "id": "7qxNfRgM1pUO",
        "colab": {
          "base_uri": "https://localhost:8080/"
        },
        "outputId": "2cf6db70-8899-440e-eb89-f35d6faa3a01"
      },
      "execution_count": 29,
      "outputs": [
        {
          "output_type": "stream",
          "name": "stdout",
          "text": [
            "thrshold = mean + 0*std\n",
            "Threshold = 0.023\n",
            "Accuracy  = 0.772\n",
            "Precision = 0.657\n",
            "Recall    = 0.998 \n",
            " ===\n",
            "thrshold = mean + 1*std\n",
            "Threshold = 0.037\n",
            "Accuracy  = 0.941\n",
            "Precision = 0.890\n",
            "Recall    = 0.986 \n",
            " ===\n",
            "thrshold = mean + 2*std\n",
            "Threshold = 0.051\n",
            "Accuracy  = 0.890\n",
            "Precision = 0.922\n",
            "Recall    = 0.817 \n",
            " ===\n",
            "thrshold = mean + 3*std\n",
            "Threshold = 0.066\n",
            "Accuracy  = 0.622\n",
            "Precision = 0.822\n",
            "Recall    = 0.170 \n",
            " ===\n"
          ]
        }
      ]
    },
    {
      "cell_type": "code",
      "source": [],
      "metadata": {
        "id": "-in9V-nG3sUK"
      },
      "execution_count": 29,
      "outputs": []
    }
  ]
}